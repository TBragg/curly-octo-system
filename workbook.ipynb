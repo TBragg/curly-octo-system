{
 "metadata": {
  "language_info": {
   "codemirror_mode": {
    "name": "ipython",
    "version": 3
   },
   "file_extension": ".py",
   "mimetype": "text/x-python",
   "name": "python",
   "nbconvert_exporter": "python",
   "pygments_lexer": "ipython3",
   "version": "3.8.3-final"
  },
  "orig_nbformat": 2,
  "kernelspec": {
   "name": "python3",
   "display_name": "Python 3",
   "language": "python"
  }
 },
 "nbformat": 4,
 "nbformat_minor": 2,
 "cells": [
  {
   "cell_type": "code",
   "execution_count": 13,
   "metadata": {},
   "outputs": [],
   "source": [
    "import pandas as pd "
   ]
  },
  {
   "cell_type": "code",
   "execution_count": 14,
   "metadata": {},
   "outputs": [],
   "source": [
    "excel_file = 'Copy of 2020.01.14 - Take Home Datasets.xlsx'\n"
   ]
  },
  {
   "cell_type": "code",
   "execution_count": 15,
   "metadata": {},
   "outputs": [],
   "source": [
    "stdib1 = pd.read_excel(excel_file, 1)\n",
    "stdib2 = pd.read_excel(excel_file, 2)\n",
    "stdib3 = pd.read_excel(excel_file, 3)\n",
    "seller_address_0 = pd.read_excel(excel_file, 4)\n",
    "seller_address_1 = pd.read_excel(excel_file, 5)\n",
    "salesforce_account = pd.read_excel(excel_file, 6)\n",
    "salesforce_contact = pd.read_excel(excel_file, 7)\n",
    "stdib_final = pd.concat([stdib2, stdib1, stdib3])"
   ]
  },
  {
   "cell_type": "code",
   "execution_count": 16,
   "metadata": {},
   "outputs": [
    {
     "output_type": "execute_result",
     "data": {
      "text/plain": [
       "Index(['id', 'seller_pk', 'seller_status', 'seller_status_code',\n",
       "       'seller_rating', 'seller_date_registered', 'seller_date_contract_start',\n",
       "       'seller_distinguished'],\n",
       "      dtype='object')"
      ]
     },
     "metadata": {},
     "execution_count": 16
    }
   ],
   "source": [
    "stdib_final.columns"
   ]
  },
  {
   "cell_type": "code",
   "execution_count": 21,
   "metadata": {},
   "outputs": [],
   "source": [
    "stdib_final = stdib_final.merge(salesforce_account, on=\"seller_pk\", how=\"left\", copy=False)\n"
   ]
  },
  {
   "cell_type": "code",
   "execution_count": 22,
   "metadata": {},
   "outputs": [],
   "source": [
    "stdib_final = stdib_final.merge(salesforce_contact, on=\"seller_pk\", how=\"left\", copy=False)"
   ]
  },
  {
   "cell_type": "code",
   "execution_count": 23,
   "metadata": {},
   "outputs": [
    {
     "output_type": "execute_result",
     "data": {
      "text/plain": [
       "        id_x seller_pk seller_status  seller_status_code seller_rating  \\\n",
       "0          1       j_1      internal         internal.qa           NaN   \n",
       "1          2       j_2        active       active.active             A   \n",
       "2          3       j_3        closed    closed.voluntary             A   \n",
       "3          4       j_4        active       active.active             A   \n",
       "4          5       j_5        closed  closed.involuntary             A   \n",
       "...      ...       ...           ...                 ...           ...   \n",
       "11884  14632   a_14632       pending         pending.new           NaN   \n",
       "11885  14642   a_14642       pending         pending.new        C_PLUS   \n",
       "11886  14652   a_14652       pending         pending.new             C   \n",
       "11887  14662   a_14662       pending      pending.unpaid             C   \n",
       "11888  14672   a_14672       pending      pending.unpaid             C   \n",
       "\n",
       "       seller_date_registered  seller_date_contract_start  \\\n",
       "0                1.218992e+09                1.218989e+09   \n",
       "1                1.221080e+09                1.221062e+09   \n",
       "2                1.221081e+09                1.221062e+09   \n",
       "3                1.221081e+09                1.221062e+09   \n",
       "4                1.221081e+09                1.221062e+09   \n",
       "...                       ...                         ...   \n",
       "11884            1.609963e+09                1.609909e+09   \n",
       "11885            1.610638e+09                1.610428e+09   \n",
       "11886            1.610638e+09                1.610428e+09   \n",
       "11887            1.610645e+09                1.609996e+09   \n",
       "11888            1.610646e+09                1.610600e+09   \n",
       "\n",
       "      seller_distinguished         id_y          account_id           id  \\\n",
       "0                      NaN          NaN                 NaN          NaN   \n",
       "1            DISTINGUISHED      72403.0  001E000000DwvtBIAR      72413.0   \n",
       "2                      NaN      83183.0  001E000000DwvtCIAR      83193.0   \n",
       "3            DISTINGUISHED      72423.0  001E000000DwvtDIAR      72433.0   \n",
       "4                      NaN      72443.0  001E000000DwvtEIAR      72453.0   \n",
       "...                    ...          ...                 ...          ...   \n",
       "11884                  NaN  128256962.0  0010h00001ibmIUAAY  128256952.0   \n",
       "11885                  NaN  128939962.0  0010h00001ial0UAAQ  128939952.0   \n",
       "11886                  NaN  128940452.0  0010h00001iboxUAAQ  128940442.0   \n",
       "11887                  NaN  128947632.0  0010h00001icMooAAE  128947622.0   \n",
       "11888                  NaN  128948342.0  0010h00001ibkzbAAA  128948332.0   \n",
       "\n",
       "               contact_id  \n",
       "0                     NaN  \n",
       "1      003E000000AFHglIAH  \n",
       "2      003E000000AFHgmIAH  \n",
       "3      003E000000AFHgnIAH  \n",
       "4      003E000000AFHgoIAH  \n",
       "...                   ...  \n",
       "11884  0030h00002glXbZAAU  \n",
       "11885  0030h00002gkwmiAAA  \n",
       "11886  0030h00002glac6AAA  \n",
       "11887  0030h00002gm7uhAAA  \n",
       "11888  0030h00002glVTMAA2  \n",
       "\n",
       "[11889 rows x 12 columns]"
      ],
      "text/html": "<div>\n<style scoped>\n    .dataframe tbody tr th:only-of-type {\n        vertical-align: middle;\n    }\n\n    .dataframe tbody tr th {\n        vertical-align: top;\n    }\n\n    .dataframe thead th {\n        text-align: right;\n    }\n</style>\n<table border=\"1\" class=\"dataframe\">\n  <thead>\n    <tr style=\"text-align: right;\">\n      <th></th>\n      <th>id_x</th>\n      <th>seller_pk</th>\n      <th>seller_status</th>\n      <th>seller_status_code</th>\n      <th>seller_rating</th>\n      <th>seller_date_registered</th>\n      <th>seller_date_contract_start</th>\n      <th>seller_distinguished</th>\n      <th>id_y</th>\n      <th>account_id</th>\n      <th>id</th>\n      <th>contact_id</th>\n    </tr>\n  </thead>\n  <tbody>\n    <tr>\n      <th>0</th>\n      <td>1</td>\n      <td>j_1</td>\n      <td>internal</td>\n      <td>internal.qa</td>\n      <td>NaN</td>\n      <td>1.218992e+09</td>\n      <td>1.218989e+09</td>\n      <td>NaN</td>\n      <td>NaN</td>\n      <td>NaN</td>\n      <td>NaN</td>\n      <td>NaN</td>\n    </tr>\n    <tr>\n      <th>1</th>\n      <td>2</td>\n      <td>j_2</td>\n      <td>active</td>\n      <td>active.active</td>\n      <td>A</td>\n      <td>1.221080e+09</td>\n      <td>1.221062e+09</td>\n      <td>DISTINGUISHED</td>\n      <td>72403.0</td>\n      <td>001E000000DwvtBIAR</td>\n      <td>72413.0</td>\n      <td>003E000000AFHglIAH</td>\n    </tr>\n    <tr>\n      <th>2</th>\n      <td>3</td>\n      <td>j_3</td>\n      <td>closed</td>\n      <td>closed.voluntary</td>\n      <td>A</td>\n      <td>1.221081e+09</td>\n      <td>1.221062e+09</td>\n      <td>NaN</td>\n      <td>83183.0</td>\n      <td>001E000000DwvtCIAR</td>\n      <td>83193.0</td>\n      <td>003E000000AFHgmIAH</td>\n    </tr>\n    <tr>\n      <th>3</th>\n      <td>4</td>\n      <td>j_4</td>\n      <td>active</td>\n      <td>active.active</td>\n      <td>A</td>\n      <td>1.221081e+09</td>\n      <td>1.221062e+09</td>\n      <td>DISTINGUISHED</td>\n      <td>72423.0</td>\n      <td>001E000000DwvtDIAR</td>\n      <td>72433.0</td>\n      <td>003E000000AFHgnIAH</td>\n    </tr>\n    <tr>\n      <th>4</th>\n      <td>5</td>\n      <td>j_5</td>\n      <td>closed</td>\n      <td>closed.involuntary</td>\n      <td>A</td>\n      <td>1.221081e+09</td>\n      <td>1.221062e+09</td>\n      <td>NaN</td>\n      <td>72443.0</td>\n      <td>001E000000DwvtEIAR</td>\n      <td>72453.0</td>\n      <td>003E000000AFHgoIAH</td>\n    </tr>\n    <tr>\n      <th>...</th>\n      <td>...</td>\n      <td>...</td>\n      <td>...</td>\n      <td>...</td>\n      <td>...</td>\n      <td>...</td>\n      <td>...</td>\n      <td>...</td>\n      <td>...</td>\n      <td>...</td>\n      <td>...</td>\n      <td>...</td>\n    </tr>\n    <tr>\n      <th>11884</th>\n      <td>14632</td>\n      <td>a_14632</td>\n      <td>pending</td>\n      <td>pending.new</td>\n      <td>NaN</td>\n      <td>1.609963e+09</td>\n      <td>1.609909e+09</td>\n      <td>NaN</td>\n      <td>128256962.0</td>\n      <td>0010h00001ibmIUAAY</td>\n      <td>128256952.0</td>\n      <td>0030h00002glXbZAAU</td>\n    </tr>\n    <tr>\n      <th>11885</th>\n      <td>14642</td>\n      <td>a_14642</td>\n      <td>pending</td>\n      <td>pending.new</td>\n      <td>C_PLUS</td>\n      <td>1.610638e+09</td>\n      <td>1.610428e+09</td>\n      <td>NaN</td>\n      <td>128939962.0</td>\n      <td>0010h00001ial0UAAQ</td>\n      <td>128939952.0</td>\n      <td>0030h00002gkwmiAAA</td>\n    </tr>\n    <tr>\n      <th>11886</th>\n      <td>14652</td>\n      <td>a_14652</td>\n      <td>pending</td>\n      <td>pending.new</td>\n      <td>C</td>\n      <td>1.610638e+09</td>\n      <td>1.610428e+09</td>\n      <td>NaN</td>\n      <td>128940452.0</td>\n      <td>0010h00001iboxUAAQ</td>\n      <td>128940442.0</td>\n      <td>0030h00002glac6AAA</td>\n    </tr>\n    <tr>\n      <th>11887</th>\n      <td>14662</td>\n      <td>a_14662</td>\n      <td>pending</td>\n      <td>pending.unpaid</td>\n      <td>C</td>\n      <td>1.610645e+09</td>\n      <td>1.609996e+09</td>\n      <td>NaN</td>\n      <td>128947632.0</td>\n      <td>0010h00001icMooAAE</td>\n      <td>128947622.0</td>\n      <td>0030h00002gm7uhAAA</td>\n    </tr>\n    <tr>\n      <th>11888</th>\n      <td>14672</td>\n      <td>a_14672</td>\n      <td>pending</td>\n      <td>pending.unpaid</td>\n      <td>C</td>\n      <td>1.610646e+09</td>\n      <td>1.610600e+09</td>\n      <td>NaN</td>\n      <td>128948342.0</td>\n      <td>0010h00001ibkzbAAA</td>\n      <td>128948332.0</td>\n      <td>0030h00002glVTMAA2</td>\n    </tr>\n  </tbody>\n</table>\n<p>11889 rows × 12 columns</p>\n</div>"
     },
     "metadata": {},
     "execution_count": 23
    }
   ],
   "source": [
    "stdib_final"
   ]
  },
  {
   "cell_type": "code",
   "execution_count": 26,
   "metadata": {},
   "outputs": [
    {
     "output_type": "error",
     "ename": "KeyError",
     "evalue": "'seller_id'",
     "traceback": [
      "\u001b[0;31m---------------------------------------------------------------------------\u001b[0m",
      "\u001b[0;31mKeyError\u001b[0m                                  Traceback (most recent call last)",
      "\u001b[0;32m<ipython-input-26-b71c1dd4422e>\u001b[0m in \u001b[0;36m<module>\u001b[0;34m\u001b[0m\n\u001b[0;32m----> 1\u001b[0;31m seller_address = pd.merge(seller_address_1, seller_address_0, left_on=[\"id\", 'seller_id'],\n\u001b[0m\u001b[1;32m      2\u001b[0m                                                                 \u001b[0mright_on\u001b[0m\u001b[0;34m=\u001b[0m\u001b[0;34m[\u001b[0m\u001b[0;34m\"address_id\"\u001b[0m\u001b[0;34m,\u001b[0m \u001b[0;34m'seller_id'\u001b[0m\u001b[0;34m]\u001b[0m\u001b[0;34m,\u001b[0m\u001b[0;34m\u001b[0m\u001b[0;34m\u001b[0m\u001b[0m\n\u001b[1;32m      3\u001b[0m                                                                  \u001b[0mhow\u001b[0m\u001b[0;34m=\u001b[0m\u001b[0;34m\"left\"\u001b[0m\u001b[0;34m,\u001b[0m\u001b[0;34m\u001b[0m\u001b[0;34m\u001b[0m\u001b[0m\n\u001b[1;32m      4\u001b[0m                                                                  copy=False)\n",
      "\u001b[0;32m~/opt/anaconda3/lib/python3.8/site-packages/pandas/core/reshape/merge.py\u001b[0m in \u001b[0;36mmerge\u001b[0;34m(left, right, how, on, left_on, right_on, left_index, right_index, sort, suffixes, copy, indicator, validate)\u001b[0m\n\u001b[1;32m     71\u001b[0m     \u001b[0mvalidate\u001b[0m\u001b[0;34m=\u001b[0m\u001b[0;32mNone\u001b[0m\u001b[0;34m,\u001b[0m\u001b[0;34m\u001b[0m\u001b[0;34m\u001b[0m\u001b[0m\n\u001b[1;32m     72\u001b[0m ) -> \"DataFrame\":\n\u001b[0;32m---> 73\u001b[0;31m     op = _MergeOperation(\n\u001b[0m\u001b[1;32m     74\u001b[0m         \u001b[0mleft\u001b[0m\u001b[0;34m,\u001b[0m\u001b[0;34m\u001b[0m\u001b[0;34m\u001b[0m\u001b[0m\n\u001b[1;32m     75\u001b[0m         \u001b[0mright\u001b[0m\u001b[0;34m,\u001b[0m\u001b[0;34m\u001b[0m\u001b[0;34m\u001b[0m\u001b[0m\n",
      "\u001b[0;32m~/opt/anaconda3/lib/python3.8/site-packages/pandas/core/reshape/merge.py\u001b[0m in \u001b[0;36m__init__\u001b[0;34m(self, left, right, how, on, left_on, right_on, axis, left_index, right_index, sort, suffixes, copy, indicator, validate)\u001b[0m\n\u001b[1;32m    625\u001b[0m             \u001b[0mself\u001b[0m\u001b[0;34m.\u001b[0m\u001b[0mright_join_keys\u001b[0m\u001b[0;34m,\u001b[0m\u001b[0;34m\u001b[0m\u001b[0;34m\u001b[0m\u001b[0m\n\u001b[1;32m    626\u001b[0m             \u001b[0mself\u001b[0m\u001b[0;34m.\u001b[0m\u001b[0mjoin_names\u001b[0m\u001b[0;34m,\u001b[0m\u001b[0;34m\u001b[0m\u001b[0;34m\u001b[0m\u001b[0m\n\u001b[0;32m--> 627\u001b[0;31m         ) = self._get_merge_keys()\n\u001b[0m\u001b[1;32m    628\u001b[0m \u001b[0;34m\u001b[0m\u001b[0m\n\u001b[1;32m    629\u001b[0m         \u001b[0;31m# validate the merge keys dtypes. We may need to coerce\u001b[0m\u001b[0;34m\u001b[0m\u001b[0;34m\u001b[0m\u001b[0;34m\u001b[0m\u001b[0m\n",
      "\u001b[0;32m~/opt/anaconda3/lib/python3.8/site-packages/pandas/core/reshape/merge.py\u001b[0m in \u001b[0;36m_get_merge_keys\u001b[0;34m(self)\u001b[0m\n\u001b[1;32m    981\u001b[0m                     \u001b[0;32mif\u001b[0m \u001b[0;32mnot\u001b[0m \u001b[0mis_rkey\u001b[0m\u001b[0;34m(\u001b[0m\u001b[0mrk\u001b[0m\u001b[0;34m)\u001b[0m\u001b[0;34m:\u001b[0m\u001b[0;34m\u001b[0m\u001b[0;34m\u001b[0m\u001b[0m\n\u001b[1;32m    982\u001b[0m                         \u001b[0;32mif\u001b[0m \u001b[0mrk\u001b[0m \u001b[0;32mis\u001b[0m \u001b[0;32mnot\u001b[0m \u001b[0;32mNone\u001b[0m\u001b[0;34m:\u001b[0m\u001b[0;34m\u001b[0m\u001b[0;34m\u001b[0m\u001b[0m\n\u001b[0;32m--> 983\u001b[0;31m                             \u001b[0mright_keys\u001b[0m\u001b[0;34m.\u001b[0m\u001b[0mappend\u001b[0m\u001b[0;34m(\u001b[0m\u001b[0mright\u001b[0m\u001b[0;34m.\u001b[0m\u001b[0m_get_label_or_level_values\u001b[0m\u001b[0;34m(\u001b[0m\u001b[0mrk\u001b[0m\u001b[0;34m)\u001b[0m\u001b[0;34m)\u001b[0m\u001b[0;34m\u001b[0m\u001b[0;34m\u001b[0m\u001b[0m\n\u001b[0m\u001b[1;32m    984\u001b[0m                         \u001b[0;32melse\u001b[0m\u001b[0;34m:\u001b[0m\u001b[0;34m\u001b[0m\u001b[0;34m\u001b[0m\u001b[0m\n\u001b[1;32m    985\u001b[0m                             \u001b[0;31m# work-around for merge_asof(right_index=True)\u001b[0m\u001b[0;34m\u001b[0m\u001b[0;34m\u001b[0m\u001b[0;34m\u001b[0m\u001b[0m\n",
      "\u001b[0;32m~/opt/anaconda3/lib/python3.8/site-packages/pandas/core/generic.py\u001b[0m in \u001b[0;36m_get_label_or_level_values\u001b[0;34m(self, key, axis)\u001b[0m\n\u001b[1;32m   1690\u001b[0m             \u001b[0mvalues\u001b[0m \u001b[0;34m=\u001b[0m \u001b[0mself\u001b[0m\u001b[0;34m.\u001b[0m\u001b[0maxes\u001b[0m\u001b[0;34m[\u001b[0m\u001b[0maxis\u001b[0m\u001b[0;34m]\u001b[0m\u001b[0;34m.\u001b[0m\u001b[0mget_level_values\u001b[0m\u001b[0;34m(\u001b[0m\u001b[0mkey\u001b[0m\u001b[0;34m)\u001b[0m\u001b[0;34m.\u001b[0m\u001b[0m_values\u001b[0m\u001b[0;34m\u001b[0m\u001b[0;34m\u001b[0m\u001b[0m\n\u001b[1;32m   1691\u001b[0m         \u001b[0;32melse\u001b[0m\u001b[0;34m:\u001b[0m\u001b[0;34m\u001b[0m\u001b[0;34m\u001b[0m\u001b[0m\n\u001b[0;32m-> 1692\u001b[0;31m             \u001b[0;32mraise\u001b[0m \u001b[0mKeyError\u001b[0m\u001b[0;34m(\u001b[0m\u001b[0mkey\u001b[0m\u001b[0;34m)\u001b[0m\u001b[0;34m\u001b[0m\u001b[0;34m\u001b[0m\u001b[0m\n\u001b[0m\u001b[1;32m   1693\u001b[0m \u001b[0;34m\u001b[0m\u001b[0m\n\u001b[1;32m   1694\u001b[0m         \u001b[0;31m# Check for duplicates\u001b[0m\u001b[0;34m\u001b[0m\u001b[0;34m\u001b[0m\u001b[0;34m\u001b[0m\u001b[0m\n",
      "\u001b[0;31mKeyError\u001b[0m: 'seller_id'"
     ]
    }
   ],
   "source": [
    "seller_address = seller_address_0.merge(seller_address_1, left_on='address_id', right_on='id', how= 'inner')\n"
   ]
  },
  {
   "cell_type": "code",
   "execution_count": 25,
   "metadata": {},
   "outputs": [
    {
     "output_type": "execute_result",
     "data": {
      "text/plain": [
       "             id seller_pk  address_id address_status     address_type state  \\\n",
       "0      39554703       a_0    56831853         ACTIVE  SELLER_SHIPPING   NaN   \n",
       "1      39554723       a_0    56831853         ACTIVE   SELLER_DEFAULT   NaN   \n",
       "2      39349933       a_1    56704683         ACTIVE  SELLER_SHIPPING   NaN   \n",
       "3      39349993       a_1    56704683         ACTIVE   SELLER_DEFAULT   NaN   \n",
       "4      39350743      a_10    56704953         ACTIVE  SELLER_SHIPPING   NaN   \n",
       "...         ...       ...         ...            ...              ...   ...   \n",
       "38421  89651563    v_9923    59869463         ACTIVE       SELLER_PAY   NaN   \n",
       "38422  89651693    v_9923    59869483         ACTIVE   SELLER_BILLING   NaN   \n",
       "38423  89766793    v_9973    59932453         ACTIVE  SELLER_SHIPPING   NaN   \n",
       "38424  89766813    v_9973    59932453         ACTIVE   SELLER_DEFAULT   NaN   \n",
       "38425  89766823    v_9973    59932463         ACTIVE       SELLER_PAY   NaN   \n",
       "\n",
       "      country  \n",
       "0         NaN  \n",
       "1         NaN  \n",
       "2         NaN  \n",
       "3         NaN  \n",
       "4         NaN  \n",
       "...       ...  \n",
       "38421     NaN  \n",
       "38422     NaN  \n",
       "38423     NaN  \n",
       "38424     NaN  \n",
       "38425     NaN  \n",
       "\n",
       "[38426 rows x 7 columns]"
      ],
      "text/html": "<div>\n<style scoped>\n    .dataframe tbody tr th:only-of-type {\n        vertical-align: middle;\n    }\n\n    .dataframe tbody tr th {\n        vertical-align: top;\n    }\n\n    .dataframe thead th {\n        text-align: right;\n    }\n</style>\n<table border=\"1\" class=\"dataframe\">\n  <thead>\n    <tr style=\"text-align: right;\">\n      <th></th>\n      <th>id</th>\n      <th>seller_pk</th>\n      <th>address_id</th>\n      <th>address_status</th>\n      <th>address_type</th>\n      <th>state</th>\n      <th>country</th>\n    </tr>\n  </thead>\n  <tbody>\n    <tr>\n      <th>0</th>\n      <td>39554703</td>\n      <td>a_0</td>\n      <td>56831853</td>\n      <td>ACTIVE</td>\n      <td>SELLER_SHIPPING</td>\n      <td>NaN</td>\n      <td>NaN</td>\n    </tr>\n    <tr>\n      <th>1</th>\n      <td>39554723</td>\n      <td>a_0</td>\n      <td>56831853</td>\n      <td>ACTIVE</td>\n      <td>SELLER_DEFAULT</td>\n      <td>NaN</td>\n      <td>NaN</td>\n    </tr>\n    <tr>\n      <th>2</th>\n      <td>39349933</td>\n      <td>a_1</td>\n      <td>56704683</td>\n      <td>ACTIVE</td>\n      <td>SELLER_SHIPPING</td>\n      <td>NaN</td>\n      <td>NaN</td>\n    </tr>\n    <tr>\n      <th>3</th>\n      <td>39349993</td>\n      <td>a_1</td>\n      <td>56704683</td>\n      <td>ACTIVE</td>\n      <td>SELLER_DEFAULT</td>\n      <td>NaN</td>\n      <td>NaN</td>\n    </tr>\n    <tr>\n      <th>4</th>\n      <td>39350743</td>\n      <td>a_10</td>\n      <td>56704953</td>\n      <td>ACTIVE</td>\n      <td>SELLER_SHIPPING</td>\n      <td>NaN</td>\n      <td>NaN</td>\n    </tr>\n    <tr>\n      <th>...</th>\n      <td>...</td>\n      <td>...</td>\n      <td>...</td>\n      <td>...</td>\n      <td>...</td>\n      <td>...</td>\n      <td>...</td>\n    </tr>\n    <tr>\n      <th>38421</th>\n      <td>89651563</td>\n      <td>v_9923</td>\n      <td>59869463</td>\n      <td>ACTIVE</td>\n      <td>SELLER_PAY</td>\n      <td>NaN</td>\n      <td>NaN</td>\n    </tr>\n    <tr>\n      <th>38422</th>\n      <td>89651693</td>\n      <td>v_9923</td>\n      <td>59869483</td>\n      <td>ACTIVE</td>\n      <td>SELLER_BILLING</td>\n      <td>NaN</td>\n      <td>NaN</td>\n    </tr>\n    <tr>\n      <th>38423</th>\n      <td>89766793</td>\n      <td>v_9973</td>\n      <td>59932453</td>\n      <td>ACTIVE</td>\n      <td>SELLER_SHIPPING</td>\n      <td>NaN</td>\n      <td>NaN</td>\n    </tr>\n    <tr>\n      <th>38424</th>\n      <td>89766813</td>\n      <td>v_9973</td>\n      <td>59932453</td>\n      <td>ACTIVE</td>\n      <td>SELLER_DEFAULT</td>\n      <td>NaN</td>\n      <td>NaN</td>\n    </tr>\n    <tr>\n      <th>38425</th>\n      <td>89766823</td>\n      <td>v_9973</td>\n      <td>59932463</td>\n      <td>ACTIVE</td>\n      <td>SELLER_PAY</td>\n      <td>NaN</td>\n      <td>NaN</td>\n    </tr>\n  </tbody>\n</table>\n<p>38426 rows × 7 columns</p>\n</div>"
     },
     "metadata": {},
     "execution_count": 25
    }
   ],
   "source": [
    "seller_address"
   ]
  },
  {
   "cell_type": "code",
   "execution_count": null,
   "metadata": {},
   "outputs": [],
   "source": []
  }
 ]
}